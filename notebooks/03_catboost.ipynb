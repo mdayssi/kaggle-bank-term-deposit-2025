{
 "cells": [
  {
   "cell_type": "code",
   "execution_count": 70,
   "id": "96f9ca32-c4c2-4dcf-9768-d001babf9c16",
   "metadata": {},
   "outputs": [],
   "source": [
    "import os\n",
    "import warnings\n",
    "from pathlib import Path\n",
    "\n",
    "import catboost\n",
    "import numpy as np\n",
    "import pandas as pd\n",
    "from catboost import CatBoostClassifier, Pool\n",
    "from dotenv import load_dotenv\n",
    "from sklearn.metrics import roc_auc_score\n",
    "\n",
    "import src.features.basic as ftr_basic\n",
    "import src.utils.io as io_utils\n",
    "import src.visualization.plotting as visual"
   ]
  },
  {
   "cell_type": "code",
   "execution_count": 47,
   "id": "94e99091-05cd-4104-a81c-17252ab87607",
   "metadata": {},
   "outputs": [
    {
     "name": "stdout",
     "output_type": "stream",
     "text": [
      "The autoreload extension is already loaded. To reload it, use:\n",
      "  %reload_ext autoreload\n"
     ]
    }
   ],
   "source": [
    "load_dotenv()\n",
    "warnings.filterwarnings(\"ignore\")\n",
    "%matplotlib inline\n",
    "%load_ext autoreload\n",
    "%autoreload 2\n",
    "\n",
    "\n",
    "ROOT = Path(os.getenv(\"ROOT\"))\n",
    "CONFIG_DIR = ROOT / Path(\"src/config/\")\n",
    "RANDOM_STATE = 42\n",
    "np.random.seed(RANDOM_STATE)"
   ]
  },
  {
   "cell_type": "code",
   "execution_count": 48,
   "id": "af759ea8-e47b-4369-af8a-19ead9696db0",
   "metadata": {},
   "outputs": [
    {
     "data": {
      "text/html": [
       "<div>\n",
       "<style scoped>\n",
       "    .dataframe tbody tr th:only-of-type {\n",
       "        vertical-align: middle;\n",
       "    }\n",
       "\n",
       "    .dataframe tbody tr th {\n",
       "        vertical-align: top;\n",
       "    }\n",
       "\n",
       "    .dataframe thead th {\n",
       "        text-align: right;\n",
       "    }\n",
       "</style>\n",
       "<table border=\"1\" class=\"dataframe\">\n",
       "  <thead>\n",
       "    <tr style=\"text-align: right;\">\n",
       "      <th></th>\n",
       "      <th>age</th>\n",
       "      <th>job</th>\n",
       "      <th>marital</th>\n",
       "      <th>education</th>\n",
       "      <th>contact</th>\n",
       "      <th>poutcome</th>\n",
       "      <th>was_contact</th>\n",
       "      <th>credit_score</th>\n",
       "      <th>job_marital</th>\n",
       "      <th>job_education</th>\n",
       "      <th>...</th>\n",
       "      <th>previous_cat</th>\n",
       "      <th>log_duration</th>\n",
       "      <th>log_balance</th>\n",
       "      <th>multiply_logs</th>\n",
       "      <th>is_overdraft</th>\n",
       "      <th>sin_month</th>\n",
       "      <th>cos_month</th>\n",
       "      <th>sin_day</th>\n",
       "      <th>cos_day</th>\n",
       "      <th>jb_mean</th>\n",
       "    </tr>\n",
       "  </thead>\n",
       "  <tbody>\n",
       "    <tr>\n",
       "      <th>0</th>\n",
       "      <td>30</td>\n",
       "      <td>blue-collar</td>\n",
       "      <td>married</td>\n",
       "      <td>primary</td>\n",
       "      <td>unknown</td>\n",
       "      <td>unknown</td>\n",
       "      <td>0</td>\n",
       "      <td>1</td>\n",
       "      <td>blue-collar_married</td>\n",
       "      <td>blue-collar_primary</td>\n",
       "      <td>...</td>\n",
       "      <td>0</td>\n",
       "      <td>5.697093</td>\n",
       "      <td>7.300473</td>\n",
       "      <td>41.591476</td>\n",
       "      <td>0</td>\n",
       "      <td>0.866025</td>\n",
       "      <td>-0.500000</td>\n",
       "      <td>0.299363</td>\n",
       "      <td>-0.954139</td>\n",
       "      <td>972.500400</td>\n",
       "    </tr>\n",
       "    <tr>\n",
       "      <th>1</th>\n",
       "      <td>33</td>\n",
       "      <td>technician</td>\n",
       "      <td>divorced</td>\n",
       "      <td>secondary</td>\n",
       "      <td>cellular</td>\n",
       "      <td>unknown</td>\n",
       "      <td>0</td>\n",
       "      <td>0</td>\n",
       "      <td>technician_divorced</td>\n",
       "      <td>technician_secondary</td>\n",
       "      <td>...</td>\n",
       "      <td>0</td>\n",
       "      <td>6.137727</td>\n",
       "      <td>3.871201</td>\n",
       "      <td>23.760375</td>\n",
       "      <td>0</td>\n",
       "      <td>-0.500000</td>\n",
       "      <td>-0.866025</td>\n",
       "      <td>0.937752</td>\n",
       "      <td>0.347305</td>\n",
       "      <td>1073.106634</td>\n",
       "    </tr>\n",
       "    <tr>\n",
       "      <th>2</th>\n",
       "      <td>28</td>\n",
       "      <td>blue-collar</td>\n",
       "      <td>single</td>\n",
       "      <td>primary</td>\n",
       "      <td>telephone</td>\n",
       "      <td>unknown</td>\n",
       "      <td>0</td>\n",
       "      <td>1</td>\n",
       "      <td>blue-collar_single</td>\n",
       "      <td>blue-collar_primary</td>\n",
       "      <td>...</td>\n",
       "      <td>0</td>\n",
       "      <td>6.276643</td>\n",
       "      <td>6.318968</td>\n",
       "      <td>39.661910</td>\n",
       "      <td>0</td>\n",
       "      <td>0.866025</td>\n",
       "      <td>-0.500000</td>\n",
       "      <td>0.651372</td>\n",
       "      <td>-0.758758</td>\n",
       "      <td>972.500400</td>\n",
       "    </tr>\n",
       "    <tr>\n",
       "      <th>3</th>\n",
       "      <td>29</td>\n",
       "      <td>unemployed</td>\n",
       "      <td>single</td>\n",
       "      <td>primary</td>\n",
       "      <td>cellular</td>\n",
       "      <td>unknown</td>\n",
       "      <td>0</td>\n",
       "      <td>0</td>\n",
       "      <td>unemployed_single</td>\n",
       "      <td>unemployed_primary</td>\n",
       "      <td>...</td>\n",
       "      <td>0</td>\n",
       "      <td>5.468060</td>\n",
       "      <td>7.635787</td>\n",
       "      <td>41.752942</td>\n",
       "      <td>0</td>\n",
       "      <td>0.500000</td>\n",
       "      <td>0.866025</td>\n",
       "      <td>0.394356</td>\n",
       "      <td>0.918958</td>\n",
       "      <td>1429.215033</td>\n",
       "    </tr>\n",
       "    <tr>\n",
       "      <th>4</th>\n",
       "      <td>55</td>\n",
       "      <td>technician</td>\n",
       "      <td>married</td>\n",
       "      <td>secondary</td>\n",
       "      <td>cellular</td>\n",
       "      <td>success</td>\n",
       "      <td>1</td>\n",
       "      <td>1</td>\n",
       "      <td>technician_married</td>\n",
       "      <td>technician_secondary</td>\n",
       "      <td>...</td>\n",
       "      <td>&lt;5</td>\n",
       "      <td>6.419995</td>\n",
       "      <td>6.763885</td>\n",
       "      <td>43.424107</td>\n",
       "      <td>0</td>\n",
       "      <td>0.500000</td>\n",
       "      <td>-0.866025</td>\n",
       "      <td>0.988468</td>\n",
       "      <td>0.151428</td>\n",
       "      <td>1073.106634</td>\n",
       "    </tr>\n",
       "  </tbody>\n",
       "</table>\n",
       "<p>5 rows × 23 columns</p>\n",
       "</div>"
      ],
      "text/plain": [
       "   age          job   marital  education    contact poutcome  was_contact  \\\n",
       "0   30  blue-collar   married    primary    unknown  unknown            0   \n",
       "1   33   technician  divorced  secondary   cellular  unknown            0   \n",
       "2   28  blue-collar    single    primary  telephone  unknown            0   \n",
       "3   29   unemployed    single    primary   cellular  unknown            0   \n",
       "4   55   technician   married  secondary   cellular  success            1   \n",
       "\n",
       "   credit_score          job_marital         job_education  ... previous_cat  \\\n",
       "0             1  blue-collar_married   blue-collar_primary  ...            0   \n",
       "1             0  technician_divorced  technician_secondary  ...            0   \n",
       "2             1   blue-collar_single   blue-collar_primary  ...            0   \n",
       "3             0    unemployed_single    unemployed_primary  ...            0   \n",
       "4             1   technician_married  technician_secondary  ...           <5   \n",
       "\n",
       "  log_duration log_balance multiply_logs  is_overdraft  sin_month  cos_month  \\\n",
       "0     5.697093    7.300473     41.591476             0   0.866025  -0.500000   \n",
       "1     6.137727    3.871201     23.760375             0  -0.500000  -0.866025   \n",
       "2     6.276643    6.318968     39.661910             0   0.866025  -0.500000   \n",
       "3     5.468060    7.635787     41.752942             0   0.500000   0.866025   \n",
       "4     6.419995    6.763885     43.424107             0   0.500000  -0.866025   \n",
       "\n",
       "    sin_day   cos_day      jb_mean  \n",
       "0  0.299363 -0.954139   972.500400  \n",
       "1  0.937752  0.347305  1073.106634  \n",
       "2  0.651372 -0.758758   972.500400  \n",
       "3  0.394356  0.918958  1429.215033  \n",
       "4  0.988468  0.151428  1073.106634  \n",
       "\n",
       "[5 rows x 23 columns]"
      ]
     },
     "execution_count": 48,
     "metadata": {},
     "output_type": "execute_result"
    }
   ],
   "source": [
    "data_cfg = io_utils.load_yaml(CONFIG_DIR / \"data.yaml\")\n",
    "DATA_NEW_FTR = data_cfg[\"new_features_train_data\"]\n",
    "\n",
    "data_train = io_utils.load_df_parquet(ROOT / DATA_NEW_FTR[\"train_new_features_path\"])\n",
    "data_val = io_utils.load_df_parquet(ROOT / DATA_NEW_FTR[\"val_new_features_path\"])\n",
    "\n",
    "target_train = io_utils.load_df_parquet(ROOT / DATA_NEW_FTR[\"train_target_path\"])\n",
    "target_val = io_utils.load_df_parquet(ROOT / DATA_NEW_FTR[\"val_target_path\"])\n",
    "\n",
    "data_train.head()"
   ]
  },
  {
   "cell_type": "code",
   "execution_count": 49,
   "id": "a6ac7353-4aab-4ae4-ae35-591f26413b56",
   "metadata": {},
   "outputs": [],
   "source": [
    "ftr_names = ftr_basic.get_features_names(data_train)\n",
    "cat_features, num_features = ftr_names[\"categorical\"], ftr_names[\"numeric\"]\n",
    "\n",
    "data_train = ftr_basic.cat_features_to_category(data_train)\n",
    "data_val = ftr_basic.cat_features_to_category(data_val)\n",
    "\n",
    "data_train, data_val = ftr_basic.align_categorical_levels(\n",
    "    data_train, data_val, cat_features\n",
    ")"
   ]
  },
  {
   "cell_type": "code",
   "execution_count": 65,
   "id": "47d53870-5c38-4878-9d25-1c1986614ef9",
   "metadata": {},
   "outputs": [],
   "source": [
    "data_ids = io_utils.load_df_parquet(\n",
    "    ROOT / data_cfg[\"origin_train_data_clean\"][\"ids_path\"]\n",
    ")"
   ]
  },
  {
   "cell_type": "code",
   "execution_count": 50,
   "id": "bb8f7ec9-3b00-479d-b332-1959b3261c04",
   "metadata": {},
   "outputs": [
    {
     "data": {
      "text/plain": [
       "['job',\n",
       " 'marital',\n",
       " 'education',\n",
       " 'contact',\n",
       " 'poutcome',\n",
       " 'job_marital',\n",
       " 'job_education',\n",
       " 'education_marital',\n",
       " 'campaign_cat',\n",
       " 'pdays_cat',\n",
       " 'previous_cat']"
      ]
     },
     "execution_count": 50,
     "metadata": {},
     "output_type": "execute_result"
    }
   ],
   "source": [
    "cat_features"
   ]
  },
  {
   "cell_type": "code",
   "execution_count": 51,
   "id": "e3c8f68d-e637-4f6c-8488-f5a16c35acfe",
   "metadata": {},
   "outputs": [
    {
     "data": {
      "text/plain": [
       "{'param_distributions': {'depth': [5, 6, 7, 8],\n",
       "  'learning_rate': [0.02, 0.03, 0.04, 0.05, 0.06],\n",
       "  'l2_leaf_reg': [2, 3, 5, 7, 10, 15, 20],\n",
       "  'min_data_in_leaf': [1, 10, 20, 50, 100],\n",
       "  'bagging_temperature': [0.0, 0.5, 0.1],\n",
       "  'random_strength': [0.0, 0.5, 1.0],\n",
       "  'rsm': [0.8, 0.9, 1.0]},\n",
       " 'n_iter': 24,\n",
       " 'cv': 3,\n",
       " 'stratified': True,\n",
       " 'shuffle': True,\n",
       " 'partition_random_seed': 42,\n",
       " 'calc_cv_statistics': True,\n",
       " 'refit': True,\n",
       " 'verbose': True}"
      ]
     },
     "execution_count": 51,
     "metadata": {},
     "output_type": "execute_result"
    }
   ],
   "source": [
    "model_cfg = io_utils.load_yaml(CONFIG_DIR / \"models.yml\")[\"catboost_searh\"]\n",
    "\n",
    "PARAMS_PATH = ROOT / model_cfg[\"params_path\"]\n",
    "cb_params = io_utils.load_yaml(PARAMS_PATH)\n",
    "cb_base_params = cb_params[\"base_model_params\"]\n",
    "cb_random_params = cb_params[\"randomized\"]\n",
    "\n",
    "cb_random_params"
   ]
  },
  {
   "cell_type": "code",
   "execution_count": 52,
   "id": "938a66ff-b239-40fe-935a-8261d357318a",
   "metadata": {},
   "outputs": [],
   "source": [
    "base_cb_model = CatBoostClassifier(**cb_base_params)\n",
    "\n",
    "train_pool = Pool(data_train, target_train, cat_features)\n",
    "val_pool = Pool(data_val, target_val, cat_features)"
   ]
  },
  {
   "cell_type": "code",
   "execution_count": 53,
   "id": "946688c7-d804-472e-8efe-0b277600b033",
   "metadata": {
    "scrolled": true
   },
   "outputs": [
    {
     "name": "stdout",
     "output_type": "stream",
     "text": [
      "CPU times: user 28.6 s, sys: 1.59 s, total: 30.2 s\n",
      "Wall time: 5.45 s\n"
     ]
    },
    {
     "ename": "KeyboardInterrupt",
     "evalue": "",
     "output_type": "error",
     "traceback": [
      "\u001b[31m---------------------------------------------------------------------------\u001b[39m",
      "\u001b[31mKeyboardInterrupt\u001b[39m                         Traceback (most recent call last)",
      "\u001b[36mCell\u001b[39m\u001b[36m \u001b[39m\u001b[32mIn[53]\u001b[39m\u001b[32m, line 1\u001b[39m\n\u001b[32m----> \u001b[39m\u001b[32m1\u001b[39m \u001b[43mget_ipython\u001b[49m\u001b[43m(\u001b[49m\u001b[43m)\u001b[49m\u001b[43m.\u001b[49m\u001b[43mrun_cell_magic\u001b[49m\u001b[43m(\u001b[49m\u001b[33;43m'\u001b[39;49m\u001b[33;43mtime\u001b[39;49m\u001b[33;43m'\u001b[39;49m\u001b[43m,\u001b[49m\u001b[43m \u001b[49m\u001b[33;43m'\u001b[39;49m\u001b[33;43m'\u001b[39;49m\u001b[43m,\u001b[49m\u001b[43m \u001b[49m\u001b[33;43m'\u001b[39;49m\u001b[38;5;130;43;01m\\n\u001b[39;49;00m\u001b[33;43mresult = base_cb_model.randomized_search(X=train_pool, **cb_random_params)\u001b[39;49m\u001b[38;5;130;43;01m\\n\u001b[39;49;00m\u001b[33;43mbest_cb_model = base_cb_model.copy()\u001b[39;49m\u001b[38;5;130;43;01m\\n\u001b[39;49;00m\u001b[38;5;130;43;01m\\n\u001b[39;49;00m\u001b[33;43mresult.save_model(ROOT / model_cfg[\u001b[39;49m\u001b[33;43m\"\u001b[39;49m\u001b[33;43mmodel_path\u001b[39;49m\u001b[33;43m\"\u001b[39;49m\u001b[33;43m])\u001b[39;49m\u001b[38;5;130;43;01m\\n\u001b[39;49;00m\u001b[33;43m'\u001b[39;49m\u001b[43m)\u001b[49m\n",
      "\u001b[36mFile \u001b[39m\u001b[32m/opt/anaconda3/envs/bank-auc/lib/python3.12/site-packages/IPython/core/interactiveshell.py:2565\u001b[39m, in \u001b[36mInteractiveShell.run_cell_magic\u001b[39m\u001b[34m(self, magic_name, line, cell)\u001b[39m\n\u001b[32m   2563\u001b[39m \u001b[38;5;28;01mwith\u001b[39;00m \u001b[38;5;28mself\u001b[39m.builtin_trap:\n\u001b[32m   2564\u001b[39m     args = (magic_arg_s, cell)\n\u001b[32m-> \u001b[39m\u001b[32m2565\u001b[39m     result = \u001b[43mfn\u001b[49m\u001b[43m(\u001b[49m\u001b[43m*\u001b[49m\u001b[43margs\u001b[49m\u001b[43m,\u001b[49m\u001b[43m \u001b[49m\u001b[43m*\u001b[49m\u001b[43m*\u001b[49m\u001b[43mkwargs\u001b[49m\u001b[43m)\u001b[49m\n\u001b[32m   2567\u001b[39m \u001b[38;5;66;03m# The code below prevents the output from being displayed\u001b[39;00m\n\u001b[32m   2568\u001b[39m \u001b[38;5;66;03m# when using magics with decorator @output_can_be_silenced\u001b[39;00m\n\u001b[32m   2569\u001b[39m \u001b[38;5;66;03m# when the last Python token in the expression is a ';'.\u001b[39;00m\n\u001b[32m   2570\u001b[39m \u001b[38;5;28;01mif\u001b[39;00m \u001b[38;5;28mgetattr\u001b[39m(fn, magic.MAGIC_OUTPUT_CAN_BE_SILENCED, \u001b[38;5;28;01mFalse\u001b[39;00m):\n",
      "\u001b[36mFile \u001b[39m\u001b[32m/opt/anaconda3/envs/bank-auc/lib/python3.12/site-packages/IPython/core/magics/execution.py:1470\u001b[39m, in \u001b[36mExecutionMagics.time\u001b[39m\u001b[34m(self, line, cell, local_ns)\u001b[39m\n\u001b[32m   1468\u001b[39m \u001b[38;5;28;01mif\u001b[39;00m interrupt_occured:\n\u001b[32m   1469\u001b[39m     \u001b[38;5;28;01mif\u001b[39;00m exit_on_interrupt \u001b[38;5;129;01mand\u001b[39;00m captured_exception:\n\u001b[32m-> \u001b[39m\u001b[32m1470\u001b[39m         \u001b[38;5;28;01mraise\u001b[39;00m captured_exception\n\u001b[32m   1471\u001b[39m     \u001b[38;5;28;01mreturn\u001b[39;00m\n\u001b[32m   1472\u001b[39m \u001b[38;5;28;01mreturn\u001b[39;00m out\n",
      "\u001b[36mFile \u001b[39m\u001b[32m/opt/anaconda3/envs/bank-auc/lib/python3.12/site-packages/IPython/core/magics/execution.py:1434\u001b[39m, in \u001b[36mExecutionMagics.time\u001b[39m\u001b[34m(self, line, cell, local_ns)\u001b[39m\n\u001b[32m   1432\u001b[39m st = clock2()\n\u001b[32m   1433\u001b[39m \u001b[38;5;28;01mtry\u001b[39;00m:\n\u001b[32m-> \u001b[39m\u001b[32m1434\u001b[39m     \u001b[43mexec\u001b[49m\u001b[43m(\u001b[49m\u001b[43mcode\u001b[49m\u001b[43m,\u001b[49m\u001b[43m \u001b[49m\u001b[43mglob\u001b[49m\u001b[43m,\u001b[49m\u001b[43m \u001b[49m\u001b[43mlocal_ns\u001b[49m\u001b[43m)\u001b[49m\n\u001b[32m   1435\u001b[39m     out = \u001b[38;5;28;01mNone\u001b[39;00m\n\u001b[32m   1436\u001b[39m     \u001b[38;5;66;03m# multi-line %%time case\u001b[39;00m\n",
      "\u001b[36mFile \u001b[39m\u001b[32m<timed exec>:1\u001b[39m\n",
      "\u001b[36mFile \u001b[39m\u001b[32m/opt/anaconda3/envs/bank-auc/lib/python3.12/site-packages/catboost/core.py:4324\u001b[39m, in \u001b[36mCatBoost.randomized_search\u001b[39m\u001b[34m(self, param_distributions, X, y, cv, n_iter, partition_random_seed, calc_cv_statistics, search_by_train_test_split, refit, shuffle, stratified, train_size, verbose, plot, plot_file, log_cout, log_cerr)\u001b[39m\n\u001b[32m   4321\u001b[39m     \u001b[38;5;28;01mif\u001b[39;00m \u001b[38;5;129;01mnot\u001b[39;00m \u001b[38;5;28misinstance\u001b[39m(param_distributions[key], Iterable) \u001b[38;5;129;01mand\u001b[39;00m \u001b[38;5;129;01mnot\u001b[39;00m \u001b[38;5;28mhasattr\u001b[39m(param_distributions[key], \u001b[33m\"\u001b[39m\u001b[33mrvs\u001b[39m\u001b[33m\"\u001b[39m):\n\u001b[32m   4322\u001b[39m         \u001b[38;5;28;01mraise\u001b[39;00m \u001b[38;5;167;01mTypeError\u001b[39;00m(\u001b[33m'\u001b[39m\u001b[33mParameter grid value is not iterable and do not have \u001b[39m\u001b[38;5;130;01m\\'\u001b[39;00m\u001b[33mrvs\u001b[39m\u001b[38;5;130;01m\\'\u001b[39;00m\u001b[33m method (key=\u001b[39m\u001b[38;5;132;01m{!r}\u001b[39;00m\u001b[33m, value=\u001b[39m\u001b[38;5;132;01m{!r}\u001b[39;00m\u001b[33m)\u001b[39m\u001b[33m'\u001b[39m.format(key, param_distributions[key]))\n\u001b[32m-> \u001b[39m\u001b[32m4324\u001b[39m \u001b[38;5;28;01mreturn\u001b[39;00m \u001b[38;5;28;43mself\u001b[39;49m\u001b[43m.\u001b[49m\u001b[43m_tune_hyperparams\u001b[49m\u001b[43m(\u001b[49m\n\u001b[32m   4325\u001b[39m \u001b[43m    \u001b[49m\u001b[43mparam_grid\u001b[49m\u001b[43m=\u001b[49m\u001b[43mparam_distributions\u001b[49m\u001b[43m,\u001b[49m\u001b[43m \u001b[49m\u001b[43mX\u001b[49m\u001b[43m=\u001b[49m\u001b[43mX\u001b[49m\u001b[43m,\u001b[49m\u001b[43m \u001b[49m\u001b[43my\u001b[49m\u001b[43m=\u001b[49m\u001b[43my\u001b[49m\u001b[43m,\u001b[49m\u001b[43m \u001b[49m\u001b[43mcv\u001b[49m\u001b[43m=\u001b[49m\u001b[43mcv\u001b[49m\u001b[43m,\u001b[49m\u001b[43m \u001b[49m\u001b[43mn_iter\u001b[49m\u001b[43m=\u001b[49m\u001b[43mn_iter\u001b[49m\u001b[43m,\u001b[49m\n\u001b[32m   4326\u001b[39m \u001b[43m    \u001b[49m\u001b[43mpartition_random_seed\u001b[49m\u001b[43m=\u001b[49m\u001b[43mpartition_random_seed\u001b[49m\u001b[43m,\u001b[49m\u001b[43m \u001b[49m\u001b[43mcalc_cv_statistics\u001b[49m\u001b[43m=\u001b[49m\u001b[43mcalc_cv_statistics\u001b[49m\u001b[43m,\u001b[49m\n\u001b[32m   4327\u001b[39m \u001b[43m    \u001b[49m\u001b[43msearch_by_train_test_split\u001b[49m\u001b[43m=\u001b[49m\u001b[43msearch_by_train_test_split\u001b[49m\u001b[43m,\u001b[49m\u001b[43m \u001b[49m\u001b[43mrefit\u001b[49m\u001b[43m=\u001b[49m\u001b[43mrefit\u001b[49m\u001b[43m,\u001b[49m\u001b[43m \u001b[49m\u001b[43mshuffle\u001b[49m\u001b[43m=\u001b[49m\u001b[43mshuffle\u001b[49m\u001b[43m,\u001b[49m\n\u001b[32m   4328\u001b[39m \u001b[43m    \u001b[49m\u001b[43mstratified\u001b[49m\u001b[43m=\u001b[49m\u001b[43mstratified\u001b[49m\u001b[43m,\u001b[49m\u001b[43m \u001b[49m\u001b[43mtrain_size\u001b[49m\u001b[43m=\u001b[49m\u001b[43mtrain_size\u001b[49m\u001b[43m,\u001b[49m\u001b[43m \u001b[49m\u001b[43mverbose\u001b[49m\u001b[43m=\u001b[49m\u001b[43mverbose\u001b[49m\u001b[43m,\u001b[49m\u001b[43m \u001b[49m\u001b[43mplot\u001b[49m\u001b[43m=\u001b[49m\u001b[43mplot\u001b[49m\u001b[43m,\u001b[49m\u001b[43m \u001b[49m\u001b[43mplot_file\u001b[49m\u001b[43m=\u001b[49m\u001b[43mplot_file\u001b[49m\u001b[43m,\u001b[49m\n\u001b[32m   4329\u001b[39m \u001b[43m    \u001b[49m\u001b[43mlog_cout\u001b[49m\u001b[43m=\u001b[49m\u001b[43mlog_cout\u001b[49m\u001b[43m,\u001b[49m\u001b[43m \u001b[49m\u001b[43mlog_cerr\u001b[49m\u001b[43m=\u001b[49m\u001b[43mlog_cerr\u001b[49m\u001b[43m,\u001b[49m\n\u001b[32m   4330\u001b[39m \u001b[43m\u001b[49m\u001b[43m)\u001b[49m\n",
      "\u001b[36mFile \u001b[39m\u001b[32m/opt/anaconda3/envs/bank-auc/lib/python3.12/site-packages/catboost/core.py:4100\u001b[39m, in \u001b[36mCatBoost._tune_hyperparams\u001b[39m\u001b[34m(self, param_grid, X, y, cv, n_iter, partition_random_seed, calc_cv_statistics, search_by_train_test_split, refit, shuffle, stratified, train_size, verbose, plot, plot_file, log_cout, log_cerr)\u001b[39m\n\u001b[32m   4097\u001b[39m     stratified = \u001b[38;5;28misinstance\u001b[39m(loss_function, STRING_TYPES) \u001b[38;5;129;01mand\u001b[39;00m is_cv_stratified_objective(loss_function)\n\u001b[32m   4099\u001b[39m \u001b[38;5;28;01mwith\u001b[39;00m plot_wrapper(plot, plot_file, \u001b[33m'\u001b[39m\u001b[33mHyperparameters search plot\u001b[39m\u001b[33m'\u001b[39m, [_get_train_dir(params)]):\n\u001b[32m-> \u001b[39m\u001b[32m4100\u001b[39m     cv_result = \u001b[38;5;28;43mself\u001b[39;49m\u001b[43m.\u001b[49m\u001b[43m_object\u001b[49m\u001b[43m.\u001b[49m\u001b[43m_tune_hyperparams\u001b[49m\u001b[43m(\u001b[49m\n\u001b[32m   4101\u001b[39m \u001b[43m        \u001b[49m\u001b[43mparam_grid\u001b[49m\u001b[43m,\u001b[49m\u001b[43m \u001b[49m\u001b[43mtrain_params\u001b[49m\u001b[43m[\u001b[49m\u001b[33;43m\"\u001b[39;49m\u001b[33;43mtrain_pool\u001b[39;49m\u001b[33;43m\"\u001b[39;49m\u001b[43m]\u001b[49m\u001b[43m,\u001b[49m\u001b[43m \u001b[49m\u001b[43mparams\u001b[49m\u001b[43m,\u001b[49m\u001b[43m \u001b[49m\u001b[43mn_iter\u001b[49m\u001b[43m,\u001b[49m\n\u001b[32m   4102\u001b[39m \u001b[43m        \u001b[49m\u001b[43mfold_count\u001b[49m\u001b[43m,\u001b[49m\u001b[43m \u001b[49m\u001b[43mpartition_random_seed\u001b[49m\u001b[43m,\u001b[49m\u001b[43m \u001b[49m\u001b[43mshuffle\u001b[49m\u001b[43m,\u001b[49m\u001b[43m \u001b[49m\u001b[43mstratified\u001b[49m\u001b[43m,\u001b[49m\u001b[43m \u001b[49m\u001b[43mtrain_size\u001b[49m\u001b[43m,\u001b[49m\n\u001b[32m   4103\u001b[39m \u001b[43m        \u001b[49m\u001b[43msearch_by_train_test_split\u001b[49m\u001b[43m,\u001b[49m\u001b[43m \u001b[49m\u001b[43mcalc_cv_statistics\u001b[49m\u001b[43m,\u001b[49m\u001b[43m \u001b[49m\u001b[43mcustom_folds\u001b[49m\u001b[43m,\u001b[49m\u001b[43m \u001b[49m\u001b[43mverbose\u001b[49m\n\u001b[32m   4104\u001b[39m \u001b[43m    \u001b[49m\u001b[43m)\u001b[49m\n\u001b[32m   4106\u001b[39m \u001b[38;5;28;01mif\u001b[39;00m refit:\n\u001b[32m   4107\u001b[39m     \u001b[38;5;28;01massert\u001b[39;00m \u001b[38;5;129;01mnot\u001b[39;00m \u001b[38;5;28mself\u001b[39m.is_fitted()\n",
      "\u001b[36mFile \u001b[39m\u001b[32m_catboost.pyx:5524\u001b[39m, in \u001b[36m_catboost._CatBoost._tune_hyperparams\u001b[39m\u001b[34m()\u001b[39m\n",
      "\u001b[36mFile \u001b[39m\u001b[32m_catboost.pyx:5577\u001b[39m, in \u001b[36m_catboost._CatBoost._tune_hyperparams\u001b[39m\u001b[34m()\u001b[39m\n",
      "\u001b[31mKeyboardInterrupt\u001b[39m: "
     ]
    }
   ],
   "source": [
    "%%time\n",
    "\n",
    "result = base_cb_model.randomized_search(X=train_pool, **cb_random_params)\n",
    "best_cb_model = base_cb_model.copy()\n",
    "\n",
    "result.save_model(ROOT / model_cfg[\"model_path\"])"
   ]
  },
  {
   "cell_type": "code",
   "execution_count": 55,
   "id": "01227717-deea-4799-8550-29d7257d5e9b",
   "metadata": {},
   "outputs": [],
   "source": [
    "model = CatBoostClassifier()\n",
    "best_model = model.load_model(ROOT / model_cfg[\"model_path\"])"
   ]
  },
  {
   "cell_type": "code",
   "execution_count": 56,
   "id": "0abbd947-3475-461f-964c-ecc03f21ed45",
   "metadata": {},
   "outputs": [
    {
     "data": {
      "text/plain": [
       "{'rsm': 0.9,\n",
       " 'random_strength': 0.5,\n",
       " 'allow_writing_files': False,\n",
       " 'eval_metric': 'AUC',\n",
       " 'od_wait': 200,\n",
       " 'od_type': 'Iter',\n",
       " 'verbose': 0,\n",
       " 'iterations': 6000,\n",
       " 'bagging_temperature': 0.5,\n",
       " 'auto_class_weights': 'Balanced',\n",
       " 'loss_function': 'Logloss',\n",
       " 'l2_leaf_reg': 3,\n",
       " 'depth': 6,\n",
       " 'min_data_in_leaf': 20,\n",
       " 'learning_rate': 0.05,\n",
       " 'random_seed': 42}"
      ]
     },
     "execution_count": 56,
     "metadata": {},
     "output_type": "execute_result"
    }
   ],
   "source": [
    "best_model.get_params()"
   ]
  },
  {
   "cell_type": "code",
   "execution_count": null,
   "id": "2c166731-0665-4bf7-8646-4421e4013ad0",
   "metadata": {},
   "outputs": [],
   "source": []
  },
  {
   "cell_type": "code",
   "execution_count": 58,
   "id": "90972d90-2769-477e-b0aa-60a1aac27a26",
   "metadata": {},
   "outputs": [
    {
     "name": "stdout",
     "output_type": "stream",
     "text": [
      "best_params:  {'depth': 6, 'learning_rate': 0.05, 'l2_leaf_reg': 3, 'min_data_in_leaf': 20, 'bagging_temperature': 0.5, 'random_strength': 0.5, 'rsm': 0.9}\n",
      "best iteration: None\n",
      "Best CatBoost AUC: 0.9675\n"
     ]
    }
   ],
   "source": [
    "best_params_cb = best_model.get_params()\n",
    "best_iter_cb = best_model.get_best_iteration()\n",
    "print(\"best_params: \", {k: best_params_cb[k] for k in param_grid})\n",
    "print(f\"best iteration: {best_iter_cb}\")\n",
    "\n",
    "pred_best_cb = best_model.predict_proba(val_pool)[:, 1]\n",
    "print(f\"Best CatBoost AUC: {roc_auc_score(target_val, pred_best_cb):.4f}\")"
   ]
  },
  {
   "cell_type": "code",
   "execution_count": null,
   "id": "72d57435-d5d3-43b1-b5a5-ebd7e4fab291",
   "metadata": {},
   "outputs": [],
   "source": []
  },
  {
   "cell_type": "code",
   "execution_count": 59,
   "id": "6b455a0e-5fe2-4bbd-a3df-b61689517881",
   "metadata": {
    "scrolled": true
   },
   "outputs": [
    {
     "name": "stdout",
     "output_type": "stream",
     "text": [
      "CPU times: user 5h 6min 21s, sys: 11min 51s, total: 5h 18min 13s\n",
      "Wall time: 51min 6s\n"
     ]
    },
    {
     "data": {
      "text/plain": [
       "<catboost.core.CatBoostClassifier at 0x16e4ddac0>"
      ]
     },
     "execution_count": 59,
     "metadata": {},
     "output_type": "execute_result"
    }
   ],
   "source": [
    "%%time\n",
    "\n",
    "val_model = CatBoostClassifier(**best_params_cb)\n",
    "\n",
    "val_model.fit(\n",
    "    train_pool,\n",
    "    eval_set=val_pool,\n",
    "    use_best_model=True,\n",
    "    early_stopping_rounds=200,\n",
    "    verbose=0,\n",
    ")"
   ]
  },
  {
   "cell_type": "code",
   "execution_count": 61,
   "id": "b3ba5f4d-dcf6-41dc-9461-3ba33afa4813",
   "metadata": {},
   "outputs": [
    {
     "name": "stdout",
     "output_type": "stream",
     "text": [
      "Best CatBoost AUC: 0.9675\n"
     ]
    }
   ],
   "source": [
    "best_params_cb = best_model.get_params()\n",
    "best_iter_cb = best_model.get_best_iteration()\n",
    "\n",
    "pred_best_cb = best_model.predict_proba(val_pool)[:, 1]\n",
    "auc = roc_auc_score(target_val, pred_best_cb)\n",
    "print(f\"Best CatBoost AUC: {auc:.4f}\")"
   ]
  },
  {
   "cell_type": "code",
   "execution_count": 63,
   "id": "4b70c4a8-bb6c-4907-8487-daf56cecae85",
   "metadata": {},
   "outputs": [],
   "source": [
    "meta = {\n",
    "    \"library\": \"catboost\",\n",
    "    \"version\": catboost.__version__,\n",
    "    \"base_params\": cb_base_params,\n",
    "    \"randomized_search_params\": cb_random_params,\n",
    "    \"best_search_params\": best_params_cb,\n",
    "    \"best_iteration\": int(val_model.get_best_iteration()),\n",
    "    \"tree_count\": int(val_model.tree_count_),\n",
    "    \"feature_order\": list(data_train.columns),\n",
    "    \"categorical_features\": list(cat_features),\n",
    "}\n",
    "\n",
    "io_utils.save_yaml(meta, ROOT / model_cfg[\"meta_path\"])"
   ]
  },
  {
   "cell_type": "code",
   "execution_count": 66,
   "id": "c81aa12a-0bbf-43b8-a99b-63665b79de7a",
   "metadata": {},
   "outputs": [],
   "source": [
    "metrics = {\"auc_val\": float(auc)}\n",
    "preds_df = pd.DataFrame(\n",
    "    {\n",
    "        \"val_ids\": data_ids.loc[data_val.index, \"id\"],\n",
    "        \"val_preds\": pred_best_cb,\n",
    "        \"val_true\": target_val.squeeze(),\n",
    "    }\n",
    ")\n",
    "\n",
    "io_utils.save_df_parquet(preds_df, ROOT / model_cfg[\"preds_path\"])\n",
    "io_utils.save_yaml(metrics, ROOT / model_cfg[\"metrics_path\"])"
   ]
  },
  {
   "cell_type": "code",
   "execution_count": 68,
   "id": "dee85cf7-d2ff-4ab7-84fa-ef254598c985",
   "metadata": {},
   "outputs": [
    {
     "data": {
      "image/png": "[encoded data removed]",
      "text/plain": [
       "<Figure size 800x950 with 1 Axes>"
      ]
     },
     "metadata": {},
     "output_type": "display_data"
    },
    {
     "data": {
      "text/html": [
       "<div>\n",
       "<style scoped>\n",
       "    .dataframe tbody tr th:only-of-type {\n",
       "        vertical-align: middle;\n",
       "    }\n",
       "\n",
       "    .dataframe tbody tr th {\n",
       "        vertical-align: top;\n",
       "    }\n",
       "\n",
       "    .dataframe thead th {\n",
       "        text-align: right;\n",
       "    }\n",
       "</style>\n",
       "<table border=\"1\" class=\"dataframe\">\n",
       "  <thead>\n",
       "    <tr style=\"text-align: right;\">\n",
       "      <th></th>\n",
       "      <th>feature</th>\n",
       "      <th>shap_value</th>\n",
       "    </tr>\n",
       "  </thead>\n",
       "  <tbody>\n",
       "    <tr>\n",
       "      <th>14</th>\n",
       "      <td>log_duration</td>\n",
       "      <td>2.539566</td>\n",
       "    </tr>\n",
       "    <tr>\n",
       "      <th>4</th>\n",
       "      <td>contact</td>\n",
       "      <td>0.712676</td>\n",
       "    </tr>\n",
       "    <tr>\n",
       "      <th>7</th>\n",
       "      <td>credit_score</td>\n",
       "      <td>0.330524</td>\n",
       "    </tr>\n",
       "    <tr>\n",
       "      <th>19</th>\n",
       "      <td>cos_month</td>\n",
       "      <td>0.292171</td>\n",
       "    </tr>\n",
       "    <tr>\n",
       "      <th>18</th>\n",
       "      <td>sin_month</td>\n",
       "      <td>0.291012</td>\n",
       "    </tr>\n",
       "    <tr>\n",
       "      <th>16</th>\n",
       "      <td>multiply_logs</td>\n",
       "      <td>0.285807</td>\n",
       "    </tr>\n",
       "    <tr>\n",
       "      <th>15</th>\n",
       "      <td>log_balance</td>\n",
       "      <td>0.258897</td>\n",
       "    </tr>\n",
       "    <tr>\n",
       "      <th>11</th>\n",
       "      <td>campaign_cat</td>\n",
       "      <td>0.219593</td>\n",
       "    </tr>\n",
       "    <tr>\n",
       "      <th>20</th>\n",
       "      <td>sin_day</td>\n",
       "      <td>0.201809</td>\n",
       "    </tr>\n",
       "    <tr>\n",
       "      <th>17</th>\n",
       "      <td>is_overdraft</td>\n",
       "      <td>0.150891</td>\n",
       "    </tr>\n",
       "    <tr>\n",
       "      <th>0</th>\n",
       "      <td>age</td>\n",
       "      <td>0.125456</td>\n",
       "    </tr>\n",
       "    <tr>\n",
       "      <th>5</th>\n",
       "      <td>poutcome</td>\n",
       "      <td>0.121885</td>\n",
       "    </tr>\n",
       "    <tr>\n",
       "      <th>21</th>\n",
       "      <td>cos_day</td>\n",
       "      <td>0.120414</td>\n",
       "    </tr>\n",
       "    <tr>\n",
       "      <th>8</th>\n",
       "      <td>job_marital</td>\n",
       "      <td>0.105588</td>\n",
       "    </tr>\n",
       "    <tr>\n",
       "      <th>12</th>\n",
       "      <td>pdays_cat</td>\n",
       "      <td>0.092365</td>\n",
       "    </tr>\n",
       "    <tr>\n",
       "      <th>22</th>\n",
       "      <td>jb_mean</td>\n",
       "      <td>0.092055</td>\n",
       "    </tr>\n",
       "    <tr>\n",
       "      <th>9</th>\n",
       "      <td>job_education</td>\n",
       "      <td>0.088700</td>\n",
       "    </tr>\n",
       "    <tr>\n",
       "      <th>10</th>\n",
       "      <td>education_marital</td>\n",
       "      <td>0.087074</td>\n",
       "    </tr>\n",
       "    <tr>\n",
       "      <th>2</th>\n",
       "      <td>marital</td>\n",
       "      <td>0.086118</td>\n",
       "    </tr>\n",
       "    <tr>\n",
       "      <th>1</th>\n",
       "      <td>job</td>\n",
       "      <td>0.085056</td>\n",
       "    </tr>\n",
       "    <tr>\n",
       "      <th>3</th>\n",
       "      <td>education</td>\n",
       "      <td>0.084724</td>\n",
       "    </tr>\n",
       "    <tr>\n",
       "      <th>13</th>\n",
       "      <td>previous_cat</td>\n",
       "      <td>0.052762</td>\n",
       "    </tr>\n",
       "    <tr>\n",
       "      <th>6</th>\n",
       "      <td>was_contact</td>\n",
       "      <td>0.004418</td>\n",
       "    </tr>\n",
       "  </tbody>\n",
       "</table>\n",
       "</div>"
      ],
      "text/plain": [
       "              feature  shap_value\n",
       "14       log_duration    2.539566\n",
       "4             contact    0.712676\n",
       "7        credit_score    0.330524\n",
       "19          cos_month    0.292171\n",
       "18          sin_month    0.291012\n",
       "16      multiply_logs    0.285807\n",
       "15        log_balance    0.258897\n",
       "11       campaign_cat    0.219593\n",
       "20            sin_day    0.201809\n",
       "17       is_overdraft    0.150891\n",
       "0                 age    0.125456\n",
       "5            poutcome    0.121885\n",
       "21            cos_day    0.120414\n",
       "8         job_marital    0.105588\n",
       "12          pdays_cat    0.092365\n",
       "22            jb_mean    0.092055\n",
       "9       job_education    0.088700\n",
       "10  education_marital    0.087074\n",
       "2             marital    0.086118\n",
       "1                 job    0.085056\n",
       "3           education    0.084724\n",
       "13       previous_cat    0.052762\n",
       "6         was_contact    0.004418"
      ]
     },
     "execution_count": 68,
     "metadata": {},
     "output_type": "execute_result"
    }
   ],
   "source": [
    "shap_values = visual.shap_values(best_model, data_train)\n",
    "\n",
    "shap_values"
   ]
  },
  {
   "cell_type": "code",
   "execution_count": null,
   "id": "f5b28a72-7ebb-4268-a9c4-8e29baf19e6f",
   "metadata": {},
   "outputs": [],
   "source": []
  }
 ],
 "metadata": {
  "kernelspec": {
   "display_name": "Python (bank-auc)",
   "language": "python",
   "name": "bank-auc"
  },
  "language_info": {
   "codemirror_mode": {
    "name": "ipython",
    "version": 3
   },
   "file_extension": ".py",
   "mimetype": "text/x-python",
   "name": "python",
   "nbconvert_exporter": "python",
   "pygments_lexer": "ipython3",
   "version": "3.12.7"
  }
 },
 "nbformat": 4,
 "nbformat_minor": 5
}
