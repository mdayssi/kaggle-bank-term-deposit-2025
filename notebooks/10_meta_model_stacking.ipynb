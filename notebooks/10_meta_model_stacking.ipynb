{
 "cells": [
  {
   "cell_type": "code",
   "execution_count": null,
   "id": "040d63d8-7aaf-498e-b588-971766f8a78f",
   "metadata": {},
   "outputs": [],
   "source": [
    "import os\n",
    "import warnings\n",
    "from pathlib import Path\n",
    "\n",
    "import numpy as np\n",
    "import pandas as pd\n",
    "from dotenv import load_dotenv\n",
    "from sklearn.linear_model import LogisticRegressionCV\n",
    "from sklearn.metrics import roc_auc_score\n",
    "from sklearn.model_selection import StratifiedKFold\n",
    "\n",
    "import src.utils.io as io_utils"
   ]
  },
  {
   "cell_type": "code",
   "execution_count": null,
   "id": "59c12f0b-5634-4375-b8cf-4557f29e83ec",
   "metadata": {},
   "outputs": [],
   "source": [
    "load_dotenv()\n",
    "warnings.filterwarnings(\"ignore\")\n",
    "%matplotlib inline\n",
    "%load_ext autoreload\n",
    "%autoreload 2\n",
    "\n",
    "\n",
    "ROOT = Path(os.getenv(\"ROOT\"))\n",
    "CONFIG_DIR = ROOT / Path(\"src/config\")\n",
    "DATA_CFG = io_utils.load_yaml(CONFIG_DIR / Path(\"data.yaml\"))\n",
    "MODELS_CFG = io_utils.load_yaml(CONFIG_DIR / Path(\"models.yml\"))\n",
    "RANDOM_STATE = 42\n",
    "np.random.seed(RANDOM_STATE)"
   ]
  },
  {
   "cell_type": "code",
   "execution_count": null,
   "id": "197637a3-7428-43a8-aeac-8bc2123671a8",
   "metadata": {},
   "outputs": [],
   "source": [
    "train = io_utils.load_df_parquet(ROOT / DATA_CFG[\"preds_on_syn\"])\n",
    "test = io_utils.load_df_parquet(ROOT / DATA_CFG[\"preds_on_test\"])\n",
    "\n",
    "target = io_utils.load_df_parquet(ROOT / DATA_CFG[\"target_on_syn\"])\n",
    "ids = io_utils.load_df_parquet(ROOT / DATA_CFG[\"test_ids\"])"
   ]
  },
  {
   "cell_type": "code",
   "execution_count": null,
   "id": "d9d1df87-8247-4036-bb14-aca8071e4030",
   "metadata": {},
   "outputs": [],
   "source": [
    "PARAM_PATH = ROOT / MODELS_CFG[\"log_reg_meta\"]\n",
    "param = io_utils.load_yaml(PARAM_PATH)\n",
    "cv = StratifiedKFold(n_splits=5, shuffle=True, random_state=RANDOM_STATE)\n",
    "meta_model = LogisticRegressionCV(\n",
    "    Cs=np.logspace(-3, 3, 13),\n",
    "    cv=cv,\n",
    "    **param,\n",
    ")\n",
    "\n",
    "meta_model.fit(train, target)"
   ]
  },
  {
   "cell_type": "code",
   "execution_count": null,
   "id": "17dd6356-58f6-47da-b567-dadc22c019af",
   "metadata": {},
   "outputs": [],
   "source": [
    "pred_test_final = meta_model.predict_proba(test)[:, 1]\n",
    "\n",
    "df_sub = pd.DataFrame(ids, columns=[\"id\"])\n",
    "df_sub[\"y\"] = pred_test_final\n",
    "\n",
    "print(f\"Size of submission: {df_sub.shape}\")\n",
    "\n",
    "df_sub.head()"
   ]
  },
  {
   "cell_type": "code",
   "execution_count": null,
   "id": "1729d663-16ea-4cbf-8017-a1268b8ea597",
   "metadata": {},
   "outputs": [],
   "source": [
    "df_sub.to_csv(ROOT / DATA_CFG[\"final\"][\"sub_path\"])"
   ]
  }
 ],
 "metadata": {
  "kernelspec": {
   "display_name": "Python (bank-auc)",
   "language": "python",
   "name": "bank-auc"
  },
  "language_info": {
   "codemirror_mode": {
    "name": "ipython",
    "version": 3
   },
   "file_extension": ".py",
   "mimetype": "text/x-python",
   "name": "python",
   "nbconvert_exporter": "python",
   "pygments_lexer": "ipython3",
   "version": "3.12.7"
  }
 },
 "nbformat": 4,
 "nbformat_minor": 5
}
