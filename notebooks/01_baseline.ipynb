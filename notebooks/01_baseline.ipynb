{
 "cells": [
  {
   "cell_type": "code",
   "execution_count": 74,
   "id": "66f6344a-3e5d-401f-a2af-f1c02875c47d",
   "metadata": {},
   "outputs": [],
   "source": [
    "import os\n",
    "import warnings\n",
    "from pathlib import Path\n",
    "\n",
    "import catboost\n",
    "import numpy as np\n",
    "import pandas as pd\n",
    "from catboost import CatBoostClassifier, Pool\n",
    "from dotenv import load_dotenv\n",
    "from sklearn.metrics import roc_auc_score\n",
    "from sklearn.model_selection import train_test_split\n",
    "\n",
    "import src.features.basic as ftr_basic\n",
    "import src.utils.io as io_utils\n",
    "import src.visualization.plotting as visual"
   ]
  },
  {
   "cell_type": "code",
   "execution_count": 88,
   "id": "e4623944-a835-4de8-b15e-fa9da8f4f7f8",
   "metadata": {},
   "outputs": [
    {
     "name": "stdout",
     "output_type": "stream",
     "text": [
      "The autoreload extension is already loaded. To reload it, use:\n",
      "  %reload_ext autoreload\n"
     ]
    }
   ],
   "source": [
    "load_dotenv()\n",
    "warnings.filterwarnings(\"ignore\")\n",
    "%matplotlib inline\n",
    "%load_ext autoreload\n",
    "%autoreload 2\n",
    "\n",
    "\n",
    "ROOT = Path(os.getenv(\"ROOT\"))\n",
    "CONFIG_DIR = ROOT / Path(\"src/config/\")\n",
    "RANDOM_STATE = 42\n",
    "np.random.seed(RANDOM_STATE)"
   ]
  },
  {
   "cell_type": "code",
   "execution_count": 81,
   "id": "a6ee0b0c-eed4-4d0b-af99-2a645efa3028",
   "metadata": {},
   "outputs": [
    {
     "data": {
      "text/plain": [
       "((749999, 16), (749999, 1))"
      ]
     },
     "execution_count": 81,
     "metadata": {},
     "output_type": "execute_result"
    }
   ],
   "source": [
    "data_cfg = io_utils.load_yaml(CONFIG_DIR / \"data.yaml\")\n",
    "DATA_CLEAN_PATH = data_cfg[\"origin_train_data_clean\"]\n",
    "DATA_SPLIT_PATH = data_cfg[\"split_origin_train_data\"]\n",
    "\n",
    "data = io_utils.load_df_parquet(ROOT / DATA_CLEAN_PATH[\"features_path\"])\n",
    "target = io_utils.load_df_parquet(ROOT / DATA_CLEAN_PATH[\"target_path\"])\n",
    "data_ids = io_utils.load_df_parquet(ROOT / DATA_CLEAN_PATH[\"ids_path\"])\n",
    "\n",
    "data.shape, target.shape"
   ]
  },
  {
   "cell_type": "code",
   "execution_count": 35,
   "id": "bbaf8667-0397-40bf-9ff9-6307c991e234",
   "metadata": {},
   "outputs": [],
   "source": [
    "data_train_origin, data_val_origin, y_train_origin, y_val_origin = train_test_split(\n",
    "    data, target, test_size=0.25, stratify=target, random_state=RANDOM_STATE\n",
    ")"
   ]
  },
  {
   "cell_type": "code",
   "execution_count": 59,
   "id": "8a1a4653-e17b-42b8-9fea-da794bfd1ab3",
   "metadata": {},
   "outputs": [],
   "source": [
    "train_idx, val_idx = data_train_origin.index, data_val_origin.index"
   ]
  },
  {
   "cell_type": "code",
   "execution_count": 82,
   "id": "a2dd442f-8cff-47c9-92e4-2d163310d03f",
   "metadata": {},
   "outputs": [],
   "source": [
    "io_utils.save_df_parquet(\n",
    "    data_train_origin, ROOT / DATA_SPLIT_PATH[\"train_features_path\"]\n",
    ")\n",
    "io_utils.save_df_parquet(data_val_origin, ROOT / DATA_SPLIT_PATH[\"val_features_path\"])\n",
    "io_utils.save_df_parquet(y_train_origin, ROOT / DATA_SPLIT_PATH[\"train_target_path\"])\n",
    "io_utils.save_df_parquet(y_val_origin, ROOT / DATA_SPLIT_PATH[\"val_target_path\"])"
   ]
  },
  {
   "cell_type": "code",
   "execution_count": 83,
   "id": "cff33b79-e7bc-4b54-b298-8d080768a65b",
   "metadata": {},
   "outputs": [
    {
     "data": {
      "text/plain": [
       "(['job',\n",
       "  'marital',\n",
       "  'education',\n",
       "  'default',\n",
       "  'housing',\n",
       "  'loan',\n",
       "  'contact',\n",
       "  'month',\n",
       "  'poutcome'],\n",
       " ['age', 'balance', 'day', 'duration', 'campaign', 'pdays', 'previous'])"
      ]
     },
     "execution_count": 83,
     "metadata": {},
     "output_type": "execute_result"
    }
   ],
   "source": [
    "ftr_names = ftr_basic.get_features_names(data_train_origin)\n",
    "cat_features, num_features = ftr_names[\"categorical\"], ftr_names[\"numeric\"]\n",
    "\n",
    "cat_features, num_features"
   ]
  },
  {
   "cell_type": "code",
   "execution_count": 85,
   "id": "7477b3bc-d6e2-412e-9b4d-aa069e73b99f",
   "metadata": {},
   "outputs": [],
   "source": [
    "model_cfg = io_utils.load_yaml(CONFIG_DIR / \"models.yml\")[\"cat_boost_baseline\"]\n",
    "\n",
    "PARAMS_PATH = ROOT / model_cfg[\"params_path\"]\n",
    "cb_baseline_params = io_utils.load_yaml(PARAMS_PATH)\n",
    "cb_model_params = cb_baseline_params[\"params\"]\n",
    "cb_fit_params = cb_baseline_params[\"fit\"]"
   ]
  },
  {
   "cell_type": "code",
   "execution_count": 50,
   "id": "6f49ed79-502c-4c27-8c77-c0f10d1249dc",
   "metadata": {},
   "outputs": [],
   "source": [
    "data_train_origin = ftr_basic.cat_features_to_category(data_train_origin)\n",
    "data_val_origin = ftr_basic.cat_features_to_category(data_val_origin)\n",
    "\n",
    "data_train_origin, data_val_origin = ftr_basic.align_categorical_levels(\n",
    "    data_train_origin, data_val_origin, cat_features\n",
    ")"
   ]
  },
  {
   "cell_type": "code",
   "execution_count": 52,
   "id": "1f4e2422-90e8-4bd9-bed4-287871cc7fd5",
   "metadata": {},
   "outputs": [
    {
     "data": {
      "text/plain": [
       "<catboost.core.CatBoostClassifier at 0x17ec74d70>"
      ]
     },
     "execution_count": 52,
     "metadata": {},
     "output_type": "execute_result"
    }
   ],
   "source": [
    "origin_train_pool = Pool(\n",
    "    data=data_train_origin, label=y_train_origin, cat_features=cat_features\n",
    ")\n",
    "origin_val_pool = Pool(\n",
    "    data=data_val_origin, label=y_val_origin, cat_features=cat_features\n",
    ")\n",
    "\n",
    "\n",
    "cb_origin_model = CatBoostClassifier(**cb_model_params)\n",
    "\n",
    "cb_origin_model.fit(origin_train_pool, eval_set=origin_val_pool, **cb_fit_params)"
   ]
  },
  {
   "cell_type": "code",
   "execution_count": 87,
   "id": "49439d97-0fff-41fb-b99f-9977200608c0",
   "metadata": {},
   "outputs": [],
   "source": [
    "cb_base_best_iter = cb_origin_model.get_best_iteration()\n",
    "\n",
    "meta = {\n",
    "    \"library\": \"catboost\",\n",
    "    \"version\": catboost.__version__,\n",
    "    \"planned_params\": cb_model_params,\n",
    "    \"fit_params\": cb_fit_params,\n",
    "    \"best_iteration\": int(cb_base_best_iter),\n",
    "    \"tree_count\": int(cb_origin_model.tree_count_),\n",
    "    \"feature_order\": list(data_train_origin.columns),\n",
    "    \"categorical_features\": list(cat_features),\n",
    "}\n",
    "\n",
    "io_utils.save_yaml(meta, ROOT / model_cfg[\"meta_path\"])\n",
    "cb_origin_model.save_model(ROOT / model_cfg[\"model_path\"])"
   ]
  },
  {
   "cell_type": "code",
   "execution_count": 57,
   "id": "0162aac2-0700-47d8-a01a-1f5f88c11ed3",
   "metadata": {},
   "outputs": [
    {
     "name": "stdout",
     "output_type": "stream",
     "text": [
      "Baseline CatBoost with origin data auc-roc score: 0.9680\n"
     ]
    }
   ],
   "source": [
    "pred_cb_origin = cb_origin_model.predict_proba(origin_val_pool)[:, 1]\n",
    "auc_baseline = roc_auc_score(y_val_origin, pred_cb_origin)\n",
    "\n",
    "print(f\"Baseline CatBoost with origin data auc-roc score: {auc_baseline:.4f}\")"
   ]
  },
  {
   "cell_type": "code",
   "execution_count": 72,
   "id": "49455f19-8e83-4546-9586-823b3f470bc4",
   "metadata": {},
   "outputs": [],
   "source": [
    "metrics = {\"auc_val\": float(auc_baseline)}\n",
    "preds_df = pd.DataFrame(\n",
    "    {\n",
    "        \"val_ids\": data_ids.loc[val_idx, \"id\"],\n",
    "        \"val_preds\": pred_cb_origin,\n",
    "        \"val_true\": y_val_origin.squeeze(),\n",
    "    }\n",
    ")\n",
    "\n",
    "io_utils.save_df_parquet(preds_df, ROOT / model_cfg[\"preds_path\"])\n",
    "io_utils.save_yaml(metrics, ROOT / model_cfg[\"metrics_path\"])"
   ]
  },
  {
   "cell_type": "code",
   "execution_count": 75,
   "id": "9a0a8087-6b69-47fc-8986-5b3242f73ba0",
   "metadata": {},
   "outputs": [
    {
     "data": {
      "image/png": "[encoded data removed]",
      "text/plain": [
       "<Figure size 800x790 with 1 Axes>"
      ]
     },
     "metadata": {},
     "output_type": "display_data"
    },
    {
     "data": {
      "text/html": [
       "<div>\n",
       "<style scoped>\n",
       "    .dataframe tbody tr th:only-of-type {\n",
       "        vertical-align: middle;\n",
       "    }\n",
       "\n",
       "    .dataframe tbody tr th {\n",
       "        vertical-align: top;\n",
       "    }\n",
       "\n",
       "    .dataframe thead th {\n",
       "        text-align: right;\n",
       "    }\n",
       "</style>\n",
       "<table border=\"1\" class=\"dataframe\">\n",
       "  <thead>\n",
       "    <tr style=\"text-align: right;\">\n",
       "      <th></th>\n",
       "      <th>feature</th>\n",
       "      <th>shap_value</th>\n",
       "    </tr>\n",
       "  </thead>\n",
       "  <tbody>\n",
       "    <tr>\n",
       "      <th>11</th>\n",
       "      <td>duration</td>\n",
       "      <td>2.547109</td>\n",
       "    </tr>\n",
       "    <tr>\n",
       "      <th>8</th>\n",
       "      <td>contact</td>\n",
       "      <td>0.526777</td>\n",
       "    </tr>\n",
       "    <tr>\n",
       "      <th>5</th>\n",
       "      <td>balance</td>\n",
       "      <td>0.446364</td>\n",
       "    </tr>\n",
       "    <tr>\n",
       "      <th>10</th>\n",
       "      <td>month</td>\n",
       "      <td>0.425806</td>\n",
       "    </tr>\n",
       "    <tr>\n",
       "      <th>6</th>\n",
       "      <td>housing</td>\n",
       "      <td>0.284009</td>\n",
       "    </tr>\n",
       "    <tr>\n",
       "      <th>12</th>\n",
       "      <td>campaign</td>\n",
       "      <td>0.244179</td>\n",
       "    </tr>\n",
       "    <tr>\n",
       "      <th>9</th>\n",
       "      <td>day</td>\n",
       "      <td>0.220989</td>\n",
       "    </tr>\n",
       "    <tr>\n",
       "      <th>2</th>\n",
       "      <td>marital</td>\n",
       "      <td>0.169252</td>\n",
       "    </tr>\n",
       "    <tr>\n",
       "      <th>3</th>\n",
       "      <td>education</td>\n",
       "      <td>0.155955</td>\n",
       "    </tr>\n",
       "    <tr>\n",
       "      <th>1</th>\n",
       "      <td>job</td>\n",
       "      <td>0.132742</td>\n",
       "    </tr>\n",
       "    <tr>\n",
       "      <th>7</th>\n",
       "      <td>loan</td>\n",
       "      <td>0.132344</td>\n",
       "    </tr>\n",
       "    <tr>\n",
       "      <th>0</th>\n",
       "      <td>age</td>\n",
       "      <td>0.126619</td>\n",
       "    </tr>\n",
       "    <tr>\n",
       "      <th>13</th>\n",
       "      <td>pdays</td>\n",
       "      <td>0.119670</td>\n",
       "    </tr>\n",
       "    <tr>\n",
       "      <th>15</th>\n",
       "      <td>poutcome</td>\n",
       "      <td>0.107529</td>\n",
       "    </tr>\n",
       "    <tr>\n",
       "      <th>14</th>\n",
       "      <td>previous</td>\n",
       "      <td>0.037270</td>\n",
       "    </tr>\n",
       "    <tr>\n",
       "      <th>4</th>\n",
       "      <td>default</td>\n",
       "      <td>0.005138</td>\n",
       "    </tr>\n",
       "  </tbody>\n",
       "</table>\n",
       "</div>"
      ],
      "text/plain": [
       "      feature  shap_value\n",
       "11   duration    2.547109\n",
       "8     contact    0.526777\n",
       "5     balance    0.446364\n",
       "10      month    0.425806\n",
       "6     housing    0.284009\n",
       "12   campaign    0.244179\n",
       "9         day    0.220989\n",
       "2     marital    0.169252\n",
       "3   education    0.155955\n",
       "1         job    0.132742\n",
       "7        loan    0.132344\n",
       "0         age    0.126619\n",
       "13      pdays    0.119670\n",
       "15   poutcome    0.107529\n",
       "14   previous    0.037270\n",
       "4     default    0.005138"
      ]
     },
     "execution_count": 75,
     "metadata": {},
     "output_type": "execute_result"
    }
   ],
   "source": [
    "shap_values = visual.shap_values(cb_origin_model, data_train_origin)\n",
    "\n",
    "shap_values"
   ]
  },
  {
   "cell_type": "code",
   "execution_count": null,
   "id": "497816ad-eadd-4993-a8d7-0b61f85c16f5",
   "metadata": {},
   "outputs": [],
   "source": []
  }
 ],
 "metadata": {
  "kernelspec": {
   "display_name": "Python (bank-auc)",
   "language": "python",
   "name": "bank-auc"
  },
  "language_info": {
   "codemirror_mode": {
    "name": "ipython",
    "version": 3
   },
   "file_extension": ".py",
   "mimetype": "text/x-python",
   "name": "python",
   "nbconvert_exporter": "python",
   "pygments_lexer": "ipython3",
   "version": "3.12.7"
  }
 },
 "nbformat": 4,
 "nbformat_minor": 5
}
