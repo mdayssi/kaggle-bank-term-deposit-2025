{
 "cells": [
  {
   "cell_type": "code",
   "execution_count": 74,
   "id": "66f6344a-3e5d-401f-a2af-f1c02875c47d",
   "metadata": {},
   "outputs": [],
   "source": [
    "import os\n",
    "import warnings\n",
    "from pathlib import Path\n",
    "\n",
    "import catboost\n",
    "import numpy as np\n",
    "import pandas as pd\n",
    "from catboost import CatBoostClassifier, Pool\n",
    "from dotenv import load_dotenv\n",
    "from sklearn.metrics import roc_auc_score\n",
    "from sklearn.model_selection import train_test_split\n",
    "\n",
    "import src.features.basic as ftr_basic\n",
    "import src.utils.io as io_utils\n",
    "import src.visualization.plotting as visual"
   ]
  },
  {
   "cell_type": "code",
   "execution_count": 25,
   "id": "e4623944-a835-4de8-b15e-fa9da8f4f7f8",
   "metadata": {},
   "outputs": [
    {
     "name": "stdout",
     "output_type": "stream",
     "text": [
      "The autoreload extension is already loaded. To reload it, use:\n",
      "  %reload_ext autoreload\n"
     ]
    }
   ],
   "source": [
    "load_dotenv()\n",
    "warnings.filterwarnings(\"ignore\")\n",
    "%matplotlib inline\n",
    "%load_ext autoreload\n",
    "%autoreload 2\n",
    "\n",
    "\n",
    "ROOT = Path(os.getenv(\"ROOT\"))\n",
    "CONFIG_DIR = ROOT / Path(\"src/config/\")\n",
    "RANDOM_STATE = 42\n",
    "np.random.seed(RANDOM_STATE)"
   ]
  },
  {
   "cell_type": "code",
   "execution_count": 45,
   "id": "a6ee0b0c-eed4-4d0b-af99-2a645efa3028",
   "metadata": {},
   "outputs": [
    {
     "data": {
      "text/plain": [
       "((749999, 16), (749999, 1))"
      ]
     },
     "execution_count": 45,
     "metadata": {},
     "output_type": "execute_result"
    }
   ],
   "source": [
    "PATH_PROC = ROOT / \"data/processed/\"\n",
    "DATA_PATH = PATH_PROC / \"clean_data_features.parquet\"\n",
    "TARGET_PATH = PATH_PROC / \"clean_target.parquet\"\n",
    "\n",
    "\n",
    "data = io_utils.load_df_parquet(DATA_PATH)\n",
    "target = io_utils.load_df_parquet(TARGET_PATH)\n",
    "\n",
    "data.shape, target.shape"
   ]
  },
  {
   "cell_type": "code",
   "execution_count": 35,
   "id": "bbaf8667-0397-40bf-9ff9-6307c991e234",
   "metadata": {},
   "outputs": [],
   "source": [
    "data_train_origin, data_val_origin, y_train_origin, y_val_origin = train_test_split(\n",
    "    data, target, test_size=0.25, stratify=target, random_state=RANDOM_STATE\n",
    ")"
   ]
  },
  {
   "cell_type": "code",
   "execution_count": 59,
   "id": "8a1a4653-e17b-42b8-9fea-da794bfd1ab3",
   "metadata": {},
   "outputs": [],
   "source": [
    "train_idx, val_idx = data_train_origin.index, data_val_origin.index"
   ]
  },
  {
   "cell_type": "code",
   "execution_count": 36,
   "id": "a2dd442f-8cff-47c9-92e4-2d163310d03f",
   "metadata": {},
   "outputs": [],
   "source": [
    "TRAIN_PATH = PATH_PROC / \"train_data_origin_features.parquet\"\n",
    "VAL_PATH = PATH_PROC / \"validate_data_origin_features.parquet\"\n",
    "\n",
    "io_utils.save_df_parquet(data_train_origin, TRAIN_PATH)\n",
    "io_utils.save_df_parquet(data_val_origin, VAL_PATH)"
   ]
  },
  {
   "cell_type": "code",
   "execution_count": 39,
   "id": "cff33b79-e7bc-4b54-b298-8d080768a65b",
   "metadata": {},
   "outputs": [
    {
     "data": {
      "text/plain": [
       "(['job',\n",
       "  'marital',\n",
       "  'education',\n",
       "  'default',\n",
       "  'housing',\n",
       "  'loan',\n",
       "  'contact',\n",
       "  'month',\n",
       "  'poutcome'],\n",
       " ['age', 'balance', 'day', 'duration', 'campaign', 'pdays', 'previous'])"
      ]
     },
     "execution_count": 39,
     "metadata": {},
     "output_type": "execute_result"
    }
   ],
   "source": [
    "ftr_names = ftr_basic.get_features_names(data_train_origin)\n",
    "cat_features, num_features = ftr_names[\"categorical\"], ftr_names[\"numeric\"]\n",
    "\n",
    "cat_features, num_features"
   ]
  },
  {
   "cell_type": "code",
   "execution_count": 42,
   "id": "7477b3bc-d6e2-412e-9b4d-aa069e73b99f",
   "metadata": {},
   "outputs": [],
   "source": [
    "MODEL_PATH = ROOT / \"models/cb_baseline.params.yml\"\n",
    "cb_baseline_params = io_utils.load_yaml(MODEL_PATH)\n",
    "cb_model_params = cb_baseline_params[\"params\"]\n",
    "cb_fit_params = cb_baseline_params[\"fit\"]"
   ]
  },
  {
   "cell_type": "code",
   "execution_count": 50,
   "id": "6f49ed79-502c-4c27-8c77-c0f10d1249dc",
   "metadata": {},
   "outputs": [],
   "source": [
    "data_train_origin = ftr_basic.cat_features_to_category(data_train_origin)\n",
    "data_val_origin = ftr_basic.cat_features_to_category(data_val_origin)\n",
    "\n",
    "data_train_origin, data_val_origin = ftr_basic.align_categorical_levels(\n",
    "    data_train_origin, data_val_origin, cat_features\n",
    ")"
   ]
  },
  {
   "cell_type": "code",
   "execution_count": 52,
   "id": "1f4e2422-90e8-4bd9-bed4-287871cc7fd5",
   "metadata": {},
   "outputs": [
    {
     "data": {
      "text/plain": [
       "<catboost.core.CatBoostClassifier at 0x17ec74d70>"
      ]
     },
     "execution_count": 52,
     "metadata": {},
     "output_type": "execute_result"
    }
   ],
   "source": [
    "origin_train_pool = Pool(\n",
    "    data=data_train_origin, label=y_train_origin, cat_features=cat_features\n",
    ")\n",
    "origin_val_pool = Pool(\n",
    "    data=data_val_origin, label=y_val_origin, cat_features=cat_features\n",
    ")\n",
    "\n",
    "\n",
    "cb_origin_model = CatBoostClassifier(**cb_model_params)\n",
    "\n",
    "cb_origin_model.fit(origin_train_pool, eval_set=origin_val_pool, **cb_fit_params)"
   ]
  },
  {
   "cell_type": "code",
   "execution_count": 56,
   "id": "49439d97-0fff-41fb-b99f-9977200608c0",
   "metadata": {},
   "outputs": [],
   "source": [
    "model_cfg = io_utils.load_yaml(CONFIG_DIR / \"models.yml\")[\"cat_boost_baseline\"]\n",
    "\n",
    "cb_base_best_iter = cb_origin_model.get_best_iteration()\n",
    "\n",
    "meta = {\n",
    "    \"library\": \"catboost\",\n",
    "    \"version\": catboost.__version__,\n",
    "    \"planned_params\": cb_model_params,\n",
    "    \"fit_params\": cb_fit_params,\n",
    "    \"best_iteration\": int(cb_base_best_iter),\n",
    "    \"tree_count\": int(cb_origin_model.tree_count_),\n",
    "    \"feature_order\": list(data_train_origin.columns),\n",
    "    \"categorical_features\": list(cat_features),\n",
    "}\n",
    "\n",
    "io_utils.save_yaml(meta, ROOT / model_cfg[\"meta_path\"])\n",
    "cb_origin_model.save_model(ROOT / model_cfg[\"model_path\"])"
   ]
  },
  {
   "cell_type": "code",
   "execution_count": 57,
   "id": "0162aac2-0700-47d8-a01a-1f5f88c11ed3",
   "metadata": {},
   "outputs": [
    {
     "name": "stdout",
     "output_type": "stream",
     "text": [
      "Baseline CatBoost with origin data auc-roc score: 0.9680\n"
     ]
    }
   ],
   "source": [
    "pred_cb_origin = cb_origin_model.predict_proba(origin_val_pool)[:, 1]\n",
    "auc_baseline = roc_auc_score(y_val_origin, pred_cb_origin)\n",
    "\n",
    "print(f\"Baseline CatBoost with origin data auc-roc score: {auc_baseline:.4f}\")"
   ]
  },
  {
   "cell_type": "code",
   "execution_count": null,
   "id": "5dfcc009-b1f8-480f-a64e-b2d8334b876c",
   "metadata": {},
   "outputs": [],
   "source": []
  },
  {
   "cell_type": "code",
   "execution_count": 72,
   "id": "49455f19-8e83-4546-9586-823b3f470bc4",
   "metadata": {},
   "outputs": [],
   "source": [
    "data_ids = io_utils.load_df_parquet(ROOT / \"data/processed/clean_data_ids.parquet\")\n",
    "metrics = {\"auc_val\": float(auc_baseline)}\n",
    "preds_df = pd.DataFrame(\n",
    "    {\n",
    "        \"val_ids\": data_ids.loc[val_idx, \"id\"],\n",
    "        \"val_preds\": pred_cb_origin,\n",
    "        \"val_true\": y_val_origin.squeeze(),\n",
    "    }\n",
    ")\n",
    "\n",
    "io_utils.save_df_parquet(preds_df, ROOT / model_cfg[\"preds_path\"])\n",
    "io_utils.save_yaml(metrics, ROOT / model_cfg[\"metrics_path\"])"
   ]
  },
  {
   "cell_type": "code",
   "execution_count": null,
   "id": "9a0a8087-6b69-47fc-8986-5b3242f73ba0",
   "metadata": {},
   "outputs": [],
   "source": [
    "shap_values = visual.shap_values(cb_origin_model, data_train_origin)\n",
    "\n",
    "shap_values"
   ]
  },
  {
   "cell_type": "code",
   "execution_count": null,
   "id": "497816ad-eadd-4993-a8d7-0b61f85c16f5",
   "metadata": {},
   "outputs": [],
   "source": []
  }
 ],
 "metadata": {
  "kernelspec": {
   "display_name": "Python (bank-auc)",
   "language": "python",
   "name": "bank-auc"
  },
  "language_info": {
   "codemirror_mode": {
    "name": "ipython",
    "version": 3
   },
   "file_extension": ".py",
   "mimetype": "text/x-python",
   "name": "python",
   "nbconvert_exporter": "python",
   "pygments_lexer": "ipython3",
   "version": "3.12.7"
  }
 },
 "nbformat": 4,
 "nbformat_minor": 5
}
