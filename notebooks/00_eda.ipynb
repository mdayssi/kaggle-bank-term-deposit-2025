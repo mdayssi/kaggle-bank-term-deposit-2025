{
  "cells": [
    {
      "cell_type": "markdown",
      "metadata": {},
      "source": [
        "# 00 \u2014 EDA (clean)\n",
        "\n",
        "This notebook is **EDA only**. No modeling, no feature leakage.\n",
        "\n",
        "Checklist:\n",
        "- Load `train.csv`/`test.csv` from `data/raw/`.\n",
        "- Overview of columns, types, missingness.\n",
        "- Target distribution, basic pivots.\n",
        "- Suspicious data patterns or potential leakage?\n"
      ]
    }
  ],
  "metadata": {
    "kernelspec": {
      "display_name": "Python 3",
      "language": "python",
      "name": "python3"
    },
    "language_info": {
      "name": "python",
      "version": "3.12"
    }
  },
  "nbformat": 4,
  "nbformat_minor": 5
}